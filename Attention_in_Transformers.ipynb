{
  "nbformat": 4,
  "nbformat_minor": 0,
  "metadata": {
    "colab": {
      "provenance": [],
      "toc_visible": true,
      "authorship_tag": "ABX9TyPSJXsJjembg7nvOfyIGMNA",
      "include_colab_link": true
    },
    "kernelspec": {
      "name": "python3",
      "display_name": "Python 3"
    },
    "language_info": {
      "name": "python"
    }
  },
  "cells": [
    {
      "cell_type": "markdown",
      "metadata": {
        "id": "view-in-github",
        "colab_type": "text"
      },
      "source": [
        "<a href=\"https://colab.research.google.com/github/SarvinSaravi/LLM-samples/blob/main/Attention_in_Transformers.ipynb\" target=\"_parent\"><img src=\"https://colab.research.google.com/assets/colab-badge.svg\" alt=\"Open In Colab\"/></a>"
      ]
    },
    {
      "cell_type": "markdown",
      "source": [
        "# Section 1\n",
        "Self-Attention in Pytorch"
      ],
      "metadata": {
        "id": "PNWpbWJxEVz4"
      }
    },
    {
      "cell_type": "markdown",
      "source": [
        "Import the modules that will do all the work"
      ],
      "metadata": {
        "id": "Ww-4xS_lEiW3"
      }
    },
    {
      "cell_type": "code",
      "execution_count": null,
      "metadata": {
        "id": "F8t3NYt1D6qN"
      },
      "outputs": [],
      "source": [
        "import torch ## torch let's us create tensors and also provides helper functions\n",
        "import torch.nn as nn ## torch.nn gives us nn.module() and nn.Linear()\n",
        "import torch.nn.functional as F # This gives us the softmax()"
      ]
    },
    {
      "cell_type": "code",
      "source": [
        "#@title Code Self-Attention\n",
        "\n",
        "class SelfAttention(nn.Module):\n",
        "\n",
        "    def __init__(self, d_model=2,\n",
        "                 row_dim=0,\n",
        "                 col_dim=1):\n",
        "        ## d_model = the number of embedding values per token.\n",
        "        ##           Because we want to be able to do the math by hand, we've\n",
        "        ##           the default value for d_model=2.\n",
        "        ##           However, in \"Attention Is All You Need\" d_model=512\n",
        "        ##\n",
        "        ## row_dim, col_dim = the indices we should use to access rows or columns\n",
        "\n",
        "\n",
        "        super().__init__()\n",
        "\n",
        "        ## Initialize the Weights (W) that we'll use to create the\n",
        "        ## query (q), key (k) and value (v) for each token\n",
        "        ## NOTE: A lot of implementations include bias terms when\n",
        "        ##       creating the the queries, keys, and values, but\n",
        "        ##       the original manuscript that described Attention,\n",
        "        ##       \"Attention Is All You Need\" did not, so we won't either\n",
        "        self.W_q = nn.Linear(in_features=d_model, out_features=d_model, bias=False)\n",
        "        self.W_k = nn.Linear(in_features=d_model, out_features=d_model, bias=False)\n",
        "        self.W_v = nn.Linear(in_features=d_model, out_features=d_model, bias=False)\n",
        "\n",
        "        self.row_dim = row_dim\n",
        "        self.col_dim = col_dim\n",
        "\n",
        "\n",
        "    def forward(self, token_encodings):\n",
        "        ## Create the query, key and values using the encoding numbers\n",
        "        ## associated with each token (token encodings)\n",
        "        q = self.W_q(token_encodings)\n",
        "        k = self.W_k(token_encodings)\n",
        "        v = self.W_v(token_encodings)\n",
        "\n",
        "        ## Compute similarities scores: (q * k^T)\n",
        "        sims = torch.matmul(q, k.transpose(dim0=self.row_dim, dim1=self.col_dim))\n",
        "\n",
        "        ## Scale the similarities by dividing by sqrt(k.col_dim)\n",
        "        scaled_sims = sims / torch.tensor(k.size(self.col_dim)**0.5)\n",
        "\n",
        "        ## Apply softmax to determine what percent of each tokens' value to\n",
        "        ## use in the final attention values.\n",
        "        attention_percents = F.softmax(scaled_sims, dim=self.col_dim)\n",
        "\n",
        "        ## Scale the values by their associated percentages and add them up.\n",
        "        attention_scores = torch.matmul(attention_percents, v)\n",
        "\n",
        "        return attention_scores"
      ],
      "metadata": {
        "id": "5ph1njDIEpis"
      },
      "execution_count": null,
      "outputs": []
    },
    {
      "cell_type": "markdown",
      "source": [
        "## Calculate Self-Attention"
      ],
      "metadata": {
        "id": "ebv5yCDbEzPI"
      }
    },
    {
      "cell_type": "code",
      "source": [
        "## create a matrix of token encodings...\n",
        "encodings_matrix = torch.tensor([[1.16, 0.23],\n",
        "                                 [0.57, 1.36],\n",
        "                                 [4.41, -2.16]])\n",
        "\n",
        "## set the seed for the random number generator\n",
        "torch.manual_seed(42)\n",
        "\n",
        "## create a basic self-attention ojbect\n",
        "selfAttention = SelfAttention(d_model=2,\n",
        "                               row_dim=0,\n",
        "                               col_dim=1)\n",
        "\n",
        "## calculate basic attention for the token encodings\n",
        "selfAttention(encodings_matrix)"
      ],
      "metadata": {
        "colab": {
          "base_uri": "https://localhost:8080/"
        },
        "id": "rMfLc7jIE2SN",
        "outputId": "5eb6e470-2e39-4fbb-ef62-f6c570dd13e2"
      },
      "execution_count": null,
      "outputs": [
        {
          "output_type": "execute_result",
          "data": {
            "text/plain": [
              "tensor([[1.0100, 1.0641],\n",
              "        [0.2040, 0.7057],\n",
              "        [3.4989, 2.2427]], grad_fn=<MmBackward0>)"
            ]
          },
          "metadata": {},
          "execution_count": 4
        }
      ]
    },
    {
      "cell_type": "markdown",
      "source": [
        "## manual calculation\n",
        "Print Out Weights and Verify Calculations"
      ],
      "metadata": {
        "id": "Qj074liuF6Wb"
      }
    },
    {
      "cell_type": "code",
      "source": [
        "## the weight matrix that creates the queries\n",
        "selfAttention.W_q.weight.transpose(0, 1)"
      ],
      "metadata": {
        "colab": {
          "base_uri": "https://localhost:8080/"
        },
        "id": "eSUmxGoCF7EG",
        "outputId": "f411e212-a04c-4536-a907-76150d6d11ad"
      },
      "execution_count": null,
      "outputs": [
        {
          "output_type": "execute_result",
          "data": {
            "text/plain": [
              "tensor([[ 0.5406, -0.1657],\n",
              "        [ 0.5869,  0.6496]], grad_fn=<TransposeBackward0>)"
            ]
          },
          "metadata": {},
          "execution_count": 10
        }
      ]
    },
    {
      "cell_type": "code",
      "source": [
        "## the weight matrix that creates the keys\n",
        "selfAttention.W_k.weight.transpose(0, 1)"
      ],
      "metadata": {
        "colab": {
          "base_uri": "https://localhost:8080/"
        },
        "id": "JTDwUvwlGgfu",
        "outputId": "9adcfb6b-79dc-4359-8214-d58396330729"
      },
      "execution_count": null,
      "outputs": [
        {
          "output_type": "execute_result",
          "data": {
            "text/plain": [
              "tensor([[-0.1549, -0.3443],\n",
              "        [ 0.1427,  0.4153]], grad_fn=<TransposeBackward0>)"
            ]
          },
          "metadata": {},
          "execution_count": 11
        }
      ]
    },
    {
      "cell_type": "code",
      "source": [
        "## the weight matrix that creates the values\n",
        "selfAttention.W_v.weight.transpose(0, 1)"
      ],
      "metadata": {
        "colab": {
          "base_uri": "https://localhost:8080/"
        },
        "id": "ECBwSvp9GpUQ",
        "outputId": "2438b8c5-40d7-4625-90ad-e1f8adbb5f75"
      },
      "execution_count": null,
      "outputs": [
        {
          "output_type": "execute_result",
          "data": {
            "text/plain": [
              "tensor([[ 0.6233,  0.6146],\n",
              "        [-0.5188,  0.1323]], grad_fn=<TransposeBackward0>)"
            ]
          },
          "metadata": {},
          "execution_count": 12
        }
      ]
    },
    {
      "cell_type": "code",
      "source": [
        "## calculate the queries\n",
        "q = selfAttention.W_q(encodings_matrix)\n",
        "q"
      ],
      "metadata": {
        "colab": {
          "base_uri": "https://localhost:8080/"
        },
        "id": "fWCGtuZLGxQi",
        "outputId": "96e4a3c2-f939-419b-ab4a-472feb6302ab"
      },
      "execution_count": null,
      "outputs": [
        {
          "output_type": "execute_result",
          "data": {
            "text/plain": [
              "tensor([[ 0.7621, -0.0428],\n",
              "        [ 1.1063,  0.7890],\n",
              "        [ 1.1164, -2.1336]], grad_fn=<MmBackward0>)"
            ]
          },
          "metadata": {},
          "execution_count": 17
        }
      ]
    },
    {
      "cell_type": "code",
      "source": [
        "## calculate the keys\n",
        "k = selfAttention.W_k(encodings_matrix)\n",
        "k"
      ],
      "metadata": {
        "colab": {
          "base_uri": "https://localhost:8080/"
        },
        "id": "RSnAGbCfHBto",
        "outputId": "f8b89869-5cf4-41a0-9475-1efdd1a749e4"
      },
      "execution_count": null,
      "outputs": [
        {
          "output_type": "execute_result",
          "data": {
            "text/plain": [
              "tensor([[-0.1469, -0.3038],\n",
              "        [ 0.1057,  0.3685],\n",
              "        [-0.9914, -2.4152]], grad_fn=<MmBackward0>)"
            ]
          },
          "metadata": {},
          "execution_count": 18
        }
      ]
    },
    {
      "cell_type": "code",
      "source": [
        "## calculating the values\n",
        "v = selfAttention.W_v(encodings_matrix)\n",
        "v"
      ],
      "metadata": {
        "colab": {
          "base_uri": "https://localhost:8080/"
        },
        "id": "3-QVuD1CHOVJ",
        "outputId": "74dc0e33-ed75-4e27-f2a3-add467e13e60"
      },
      "execution_count": null,
      "outputs": [
        {
          "output_type": "execute_result",
          "data": {
            "text/plain": [
              "tensor([[ 0.6038,  0.7434],\n",
              "        [-0.3502,  0.5303],\n",
              "        [ 3.8695,  2.4246]], grad_fn=<MmBackward0>)"
            ]
          },
          "metadata": {},
          "execution_count": 19
        }
      ]
    },
    {
      "cell_type": "code",
      "source": [
        "sims = torch.matmul(q, k.transpose(dim0=0, dim1=1))\n",
        "sims"
      ],
      "metadata": {
        "colab": {
          "base_uri": "https://localhost:8080/"
        },
        "id": "jp5kLwe7HcgV",
        "outputId": "e3e4c149-4846-4082-89e3-8ae5ed2fedf9"
      },
      "execution_count": null,
      "outputs": [
        {
          "output_type": "execute_result",
          "data": {
            "text/plain": [
              "tensor([[-0.0990,  0.0648, -0.6523],\n",
              "        [-0.4022,  0.4078, -3.0024],\n",
              "        [ 0.4842, -0.6683,  4.0461]], grad_fn=<MmBackward0>)"
            ]
          },
          "metadata": {},
          "execution_count": 21
        }
      ]
    },
    {
      "cell_type": "code",
      "source": [
        "scaled_sims = sims / torch.tensor(k.size(1)**0.5)\n",
        "scaled_sims"
      ],
      "metadata": {
        "colab": {
          "base_uri": "https://localhost:8080/"
        },
        "id": "lwcQWTA_IDBK",
        "outputId": "a3176520-031b-4fae-bbce-870f4d6d3621"
      },
      "execution_count": null,
      "outputs": [
        {
          "output_type": "execute_result",
          "data": {
            "text/plain": [
              "tensor([[-0.0700,  0.0458, -0.4612],\n",
              "        [-0.2844,  0.2883, -2.1230],\n",
              "        [ 0.3424, -0.4725,  2.8610]], grad_fn=<DivBackward0>)"
            ]
          },
          "metadata": {},
          "execution_count": 22
        }
      ]
    },
    {
      "cell_type": "code",
      "source": [
        "attention_percents = F.softmax(scaled_sims, dim=1)\n",
        "attention_percents"
      ],
      "metadata": {
        "colab": {
          "base_uri": "https://localhost:8080/"
        },
        "id": "oW6KQbU6INT0",
        "outputId": "0c40b820-2ce4-4c64-eafe-4672001eae80"
      },
      "execution_count": null,
      "outputs": [
        {
          "output_type": "execute_result",
          "data": {
            "text/plain": [
              "tensor([[0.3573, 0.4011, 0.2416],\n",
              "        [0.3410, 0.6047, 0.0542],\n",
              "        [0.0722, 0.0320, 0.8959]], grad_fn=<SoftmaxBackward0>)"
            ]
          },
          "metadata": {},
          "execution_count": 23
        }
      ]
    },
    {
      "cell_type": "code",
      "source": [
        "torch.matmul(attention_percents, v)"
      ],
      "metadata": {
        "colab": {
          "base_uri": "https://localhost:8080/"
        },
        "id": "h4NlGE_CIUtn",
        "outputId": "0e030d5c-ab52-431d-895b-d37fd53e9ca6"
      },
      "execution_count": null,
      "outputs": [
        {
          "output_type": "execute_result",
          "data": {
            "text/plain": [
              "tensor([[1.0100, 1.0641],\n",
              "        [0.2040, 0.7057],\n",
              "        [3.4989, 2.2427]], grad_fn=<MmBackward0>)"
            ]
          },
          "metadata": {},
          "execution_count": 24
        }
      ]
    },
    {
      "cell_type": "markdown",
      "source": [
        "# Section 2\n",
        "Masked Self-Attention\n"
      ],
      "metadata": {
        "id": "bZ2r6Z3UJChS"
      }
    },
    {
      "cell_type": "markdown",
      "source": [
        "Import the modules that will do all the work"
      ],
      "metadata": {
        "id": "fD9GW83sZnt_"
      }
    },
    {
      "cell_type": "code",
      "source": [
        "import torch\n",
        "import torch.nn as nn\n",
        "import torch.nn.functional as F"
      ],
      "metadata": {
        "id": "-6N5RU3tZb_Z"
      },
      "execution_count": null,
      "outputs": []
    },
    {
      "cell_type": "code",
      "source": [
        "#@title Code Masked Self-Attention\n",
        "\n",
        "class MaskedSelfAttention(nn.Module):\n",
        "\n",
        "    def __init__(self, d_model=2,\n",
        "                 row_dim=0,\n",
        "                 col_dim=1):\n",
        "\n",
        "        super().__init__()\n",
        "\n",
        "        self.W_q = nn.Linear(in_features=d_model, out_features=d_model, bias=False)\n",
        "        self.W_k = nn.Linear(in_features=d_model, out_features=d_model, bias=False)\n",
        "        self.W_v = nn.Linear(in_features=d_model, out_features=d_model, bias=False)\n",
        "\n",
        "        self.row_dim = row_dim\n",
        "        self.col_dim = col_dim\n",
        "\n",
        "\n",
        "    def forward(self, token_encodings, mask=None):\n",
        "\n",
        "      q = self.W_q(token_encodings)\n",
        "      k = self.W_k(token_encodings)\n",
        "      v = self.W_v(token_encodings)\n",
        "\n",
        "      sims = torch.matmul(q, k.transpose(dim0=self.row_dim, dim1=self.col_dim))\n",
        "\n",
        "      scaled_sims = sims / torch.tensor(k.size(self.col_dim)**0.5)\n",
        "\n",
        "      if mask is not None:\n",
        "            ## Here we are masking out things we don't want to pay attention to\n",
        "            ##\n",
        "            ## We replace values we wanted masked out\n",
        "            ## with a very small negative number so that the SoftMax() function\n",
        "            ## will give all masked elements an output value (or \"probability\") of 0.\n",
        "            scaled_sims = scaled_sims.masked_fill(mask=mask, value=-1e9) # I've also seen -1e20 and -9e15 used in masking\n",
        "\n",
        "      attention_percents = F.softmax(scaled_sims, dim=self.col_dim)\n",
        "\n",
        "      attention_scores = torch.matmul(attention_percents, v)\n",
        "\n",
        "      return attention_scores\n"
      ],
      "metadata": {
        "id": "d6TLLmKEZ5A0"
      },
      "execution_count": null,
      "outputs": []
    },
    {
      "cell_type": "code",
      "source": [
        "# @title Calculate Masked Self-Attention\n",
        "\n",
        "## create a matrix of token encodings...\n",
        "encodings_matrix = torch.tensor([[1.16, 0.23],\n",
        "                                 [0.57, 1.36],\n",
        "                                 [4.41, -2.16]])\n",
        "\n",
        "## set the seed for the random number generator\n",
        "torch.manual_seed(42)\n",
        "\n",
        "## create a masked self-attention object\n",
        "maskedSelfAttention = MaskedSelfAttention(d_model=2,\n",
        "                               row_dim=0,\n",
        "                               col_dim=1)\n",
        "\n",
        "## create the mask so that we don't use\n",
        "## tokens that come after a token of interest\n",
        "mask = torch.tril(torch.ones(3, 3))\n",
        "mask = mask == 0\n",
        "mask # print out the mask"
      ],
      "metadata": {
        "colab": {
          "base_uri": "https://localhost:8080/"
        },
        "id": "Pm3QLsoKdx5e",
        "outputId": "0394eb43-1f14-4be5-c9d1-71598478842f"
      },
      "execution_count": null,
      "outputs": [
        {
          "output_type": "execute_result",
          "data": {
            "text/plain": [
              "tensor([[False,  True,  True],\n",
              "        [False, False,  True],\n",
              "        [False, False, False]])"
            ]
          },
          "metadata": {},
          "execution_count": 17
        }
      ]
    },
    {
      "cell_type": "code",
      "source": [
        "## calculate masked self-attention\n",
        "maskedSelfAttention(encodings_matrix, mask)"
      ],
      "metadata": {
        "colab": {
          "base_uri": "https://localhost:8080/"
        },
        "id": "EvAo8SqkezDz",
        "outputId": "9a06dfbe-b82b-471e-9faa-8003878246b0"
      },
      "execution_count": null,
      "outputs": [
        {
          "output_type": "execute_result",
          "data": {
            "text/plain": [
              "tensor([[ 0.6038,  0.7434],\n",
              "        [-0.0062,  0.6072],\n",
              "        [ 3.4989,  2.2427]], grad_fn=<MmBackward0>)"
            ]
          },
          "metadata": {},
          "execution_count": 18
        }
      ]
    },
    {
      "cell_type": "markdown",
      "source": [
        "## Manual calculation\n",
        "Print Out Weights and Verify Calculations"
      ],
      "metadata": {
        "id": "pj9w-L3Afb9h"
      }
    },
    {
      "cell_type": "code",
      "source": [
        "## the weight matrix that creates the queries\n",
        "maskedSelfAttention.W_q.weight.transpose(0, 1)"
      ],
      "metadata": {
        "colab": {
          "base_uri": "https://localhost:8080/"
        },
        "outputId": "5ac7561d-15b6-4f82-f893-3294bc62c334",
        "id": "KPGp4vwtfkIz"
      },
      "execution_count": null,
      "outputs": [
        {
          "output_type": "execute_result",
          "data": {
            "text/plain": [
              "tensor([[ 0.5406, -0.1657],\n",
              "        [ 0.5869,  0.6496]], grad_fn=<TransposeBackward0>)"
            ]
          },
          "metadata": {},
          "execution_count": 19
        }
      ]
    },
    {
      "cell_type": "code",
      "source": [
        "## the weight matrix that creates the queries\n",
        "maskedSelfAttention.W_k.weight.transpose(0, 1)"
      ],
      "metadata": {
        "colab": {
          "base_uri": "https://localhost:8080/"
        },
        "outputId": "cc4a33ff-471f-4c05-f609-ce4e4e5780aa",
        "id": "AmT1SKoXfsze"
      },
      "execution_count": null,
      "outputs": [
        {
          "output_type": "execute_result",
          "data": {
            "text/plain": [
              "tensor([[-0.1549, -0.3443],\n",
              "        [ 0.1427,  0.4153]], grad_fn=<TransposeBackward0>)"
            ]
          },
          "metadata": {},
          "execution_count": 21
        }
      ]
    },
    {
      "cell_type": "code",
      "source": [
        "## the weight matrix that creates the queries\n",
        "maskedSelfAttention.W_v.weight.transpose(0, 1)"
      ],
      "metadata": {
        "colab": {
          "base_uri": "https://localhost:8080/"
        },
        "outputId": "41a1dce5-3ef6-4d26-9a9c-52d401522313",
        "id": "d8Us8WCpfzmE"
      },
      "execution_count": null,
      "outputs": [
        {
          "output_type": "execute_result",
          "data": {
            "text/plain": [
              "tensor([[ 0.6233,  0.6146],\n",
              "        [-0.5188,  0.1323]], grad_fn=<TransposeBackward0>)"
            ]
          },
          "metadata": {},
          "execution_count": 22
        }
      ]
    },
    {
      "cell_type": "code",
      "source": [
        "## calculate the queries\n",
        "q = maskedSelfAttention.W_q(encodings_matrix)\n",
        "q"
      ],
      "metadata": {
        "colab": {
          "base_uri": "https://localhost:8080/"
        },
        "id": "N_Mp9BiOf-hu",
        "outputId": "25af812d-9493-409f-d013-771f0457fc20"
      },
      "execution_count": null,
      "outputs": [
        {
          "output_type": "execute_result",
          "data": {
            "text/plain": [
              "tensor([[ 0.7621, -0.0428],\n",
              "        [ 1.1063,  0.7890],\n",
              "        [ 1.1164, -2.1336]], grad_fn=<MmBackward0>)"
            ]
          },
          "metadata": {},
          "execution_count": 26
        }
      ]
    },
    {
      "cell_type": "code",
      "source": [
        "## calculate the keys\n",
        "k = maskedSelfAttention.W_k(encodings_matrix)\n",
        "k"
      ],
      "metadata": {
        "colab": {
          "base_uri": "https://localhost:8080/"
        },
        "id": "ni_llErYgPLn",
        "outputId": "166849bc-3fe2-4488-e4fe-0eadafe3b3db"
      },
      "execution_count": null,
      "outputs": [
        {
          "output_type": "execute_result",
          "data": {
            "text/plain": [
              "tensor([[-0.1469, -0.3038],\n",
              "        [ 0.1057,  0.3685],\n",
              "        [-0.9914, -2.4152]], grad_fn=<MmBackward0>)"
            ]
          },
          "metadata": {},
          "execution_count": 27
        }
      ]
    },
    {
      "cell_type": "code",
      "source": [
        "## calculate the values\n",
        "v = maskedSelfAttention.W_v(encodings_matrix)\n",
        "v"
      ],
      "metadata": {
        "colab": {
          "base_uri": "https://localhost:8080/"
        },
        "id": "ZQlzo78pgSO7",
        "outputId": "0f38e4d1-766d-4f78-e72e-2283f4461e04"
      },
      "execution_count": null,
      "outputs": [
        {
          "output_type": "execute_result",
          "data": {
            "text/plain": [
              "tensor([[ 0.6038,  0.7434],\n",
              "        [-0.3502,  0.5303],\n",
              "        [ 3.8695,  2.4246]], grad_fn=<MmBackward0>)"
            ]
          },
          "metadata": {},
          "execution_count": 28
        }
      ]
    },
    {
      "cell_type": "code",
      "source": [
        "sims = torch.matmul(q, k.transpose(dim0=0, dim1=1))\n",
        "sims"
      ],
      "metadata": {
        "colab": {
          "base_uri": "https://localhost:8080/"
        },
        "id": "8JCoKWS1ggFO",
        "outputId": "1199d3e9-0dd6-459a-95d6-9e70294b7008"
      },
      "execution_count": null,
      "outputs": [
        {
          "output_type": "execute_result",
          "data": {
            "text/plain": [
              "tensor([[-0.0990,  0.0648, -0.6523],\n",
              "        [-0.4022,  0.4078, -3.0024],\n",
              "        [ 0.4842, -0.6683,  4.0461]], grad_fn=<MmBackward0>)"
            ]
          },
          "metadata": {},
          "execution_count": 29
        }
      ]
    },
    {
      "cell_type": "code",
      "source": [
        "scaled_sims = sims / (torch.tensor(2)**0.5)\n",
        "scaled_sims"
      ],
      "metadata": {
        "colab": {
          "base_uri": "https://localhost:8080/"
        },
        "id": "oKG8nIxvghRn",
        "outputId": "08bd046a-f09a-4db5-b69d-8a87988f0e56"
      },
      "execution_count": null,
      "outputs": [
        {
          "output_type": "execute_result",
          "data": {
            "text/plain": [
              "tensor([[-0.0700,  0.0458, -0.4612],\n",
              "        [-0.2844,  0.2883, -2.1230],\n",
              "        [ 0.3424, -0.4725,  2.8610]], grad_fn=<DivBackward0>)"
            ]
          },
          "metadata": {},
          "execution_count": 30
        }
      ]
    },
    {
      "cell_type": "code",
      "source": [
        "masked_scaled_sims = scaled_sims.masked_fill(mask=mask, value=-1e9)\n",
        "masked_scaled_sims"
      ],
      "metadata": {
        "colab": {
          "base_uri": "https://localhost:8080/"
        },
        "id": "gkDTE3yqgpeS",
        "outputId": "9a518261-4920-44f1-d8ba-95752184e10e"
      },
      "execution_count": null,
      "outputs": [
        {
          "output_type": "execute_result",
          "data": {
            "text/plain": [
              "tensor([[-6.9975e-02, -1.0000e+09, -1.0000e+09],\n",
              "        [-2.8442e-01,  2.8833e-01, -1.0000e+09],\n",
              "        [ 3.4241e-01, -4.7253e-01,  2.8610e+00]],\n",
              "       grad_fn=<MaskedFillBackward0>)"
            ]
          },
          "metadata": {},
          "execution_count": 31
        }
      ]
    },
    {
      "cell_type": "code",
      "source": [
        "attention_percents = F.softmax(masked_scaled_sims, dim=1)\n",
        "attention_percents"
      ],
      "metadata": {
        "colab": {
          "base_uri": "https://localhost:8080/"
        },
        "id": "1dm1aZ68gtQV",
        "outputId": "9a7411f2-53c8-467c-ecf0-1d3b58c2fb8b"
      },
      "execution_count": null,
      "outputs": [
        {
          "output_type": "execute_result",
          "data": {
            "text/plain": [
              "tensor([[1.0000, 0.0000, 0.0000],\n",
              "        [0.3606, 0.6394, 0.0000],\n",
              "        [0.0722, 0.0320, 0.8959]], grad_fn=<SoftmaxBackward0>)"
            ]
          },
          "metadata": {},
          "execution_count": 32
        }
      ]
    },
    {
      "cell_type": "code",
      "source": [
        "torch.matmul(attention_percents, maskedSelfAttention.W_v(encodings_matrix))"
      ],
      "metadata": {
        "id": "FrLnNoUegwQi",
        "outputId": "6e1e2507-7d84-4b16-b3d4-a3276c0020bf",
        "colab": {
          "base_uri": "https://localhost:8080/"
        }
      },
      "execution_count": null,
      "outputs": [
        {
          "output_type": "execute_result",
          "data": {
            "text/plain": [
              "tensor([[ 0.6038,  0.7434],\n",
              "        [-0.0062,  0.6072],\n",
              "        [ 3.4989,  2.2427]], grad_fn=<MmBackward0>)"
            ]
          },
          "metadata": {},
          "execution_count": 33
        }
      ]
    },
    {
      "cell_type": "markdown",
      "source": [
        "# Section 3\n",
        "Self-Attention + Masked Self-Attention + Multi-Head Attention"
      ],
      "metadata": {
        "id": "XR9vDgW0d75B"
      }
    },
    {
      "cell_type": "markdown",
      "source": [
        "Import the modules that will do all the work"
      ],
      "metadata": {
        "id": "b8vm5L9qeWLD"
      }
    },
    {
      "cell_type": "code",
      "source": [
        "import torch\n",
        "import torch.nn as nn\n",
        "import torch.nn.functional as F"
      ],
      "metadata": {
        "id": "fUvSdIRxeI5s"
      },
      "execution_count": null,
      "outputs": []
    },
    {
      "cell_type": "code",
      "source": [
        "#@title Code Attention\n",
        "\n",
        "\n",
        "class Attention(nn.Module):\n",
        "\n",
        "    def __init__(self, d_model=2,\n",
        "                 row_dim=0,\n",
        "                 col_dim=1):\n",
        "\n",
        "        super().__init__()\n",
        "\n",
        "        self.W_q = nn.Linear(in_features=d_model, out_features=d_model, bias=False)\n",
        "        self.W_k = nn.Linear(in_features=d_model, out_features=d_model, bias=False)\n",
        "        self.W_v = nn.Linear(in_features=d_model, out_features=d_model, bias=False)\n",
        "\n",
        "        self.row_dim = row_dim\n",
        "        self.col_dim = col_dim\n",
        "\n",
        "\n",
        "    ## The only change from SelfAttention and attention is that\n",
        "    ## now we expect 3 sets of encodings to be passed in...\n",
        "    def forward(self, encodings_for_q, encodings_for_k, encodings_for_v, mask=None):\n",
        "        ## ...and we pass those sets of encodings to the various weight matrices.\n",
        "        q = self.W_q(encodings_for_q)\n",
        "        k = self.W_k(encodings_for_k)\n",
        "        v = self.W_v(encodings_for_v)\n",
        "\n",
        "        sims = torch.matmul(q, k.transpose(dim0=self.row_dim, dim1=self.col_dim))\n",
        "\n",
        "        scaled_sims = sims / torch.tensor(k.size(self.col_dim)**0.5)\n",
        "\n",
        "        if mask is not None:\n",
        "            scaled_sims = scaled_sims.masked_fill(mask=mask, value=-1e9)\n",
        "\n",
        "        attention_percents = F.softmax(scaled_sims, dim=self.col_dim)\n",
        "\n",
        "        attention_scores = torch.matmul(attention_percents, v)\n",
        "\n",
        "        return attention_scores"
      ],
      "metadata": {
        "id": "U9nGvGinedOW"
      },
      "execution_count": null,
      "outputs": []
    },
    {
      "cell_type": "code",
      "source": [
        "#@title Calculate Encoder-Decoder Attention\n",
        "\n",
        "\n",
        "## create matrices of token encodings...\n",
        "encodings_for_q = torch.tensor([[1.16, 0.23],\n",
        "                                [0.57, 1.36],\n",
        "                                [4.41, -2.16]])\n",
        "\n",
        "encodings_for_k = torch.tensor([[1.16, 0.23],\n",
        "                                [0.57, 1.36],\n",
        "                                [4.41, -2.16]])\n",
        "\n",
        "encodings_for_v = torch.tensor([[1.16, 0.23],\n",
        "                                [0.57, 1.36],\n",
        "                                [4.41, -2.16]])\n",
        "\n",
        "## set the seed for the random number generator\n",
        "torch.manual_seed(42)\n",
        "\n",
        "## create an attention object\n",
        "attention = Attention(d_model=2,\n",
        "                      row_dim=0,\n",
        "                      col_dim=1)\n",
        "\n",
        "## calculate encoder-decoder attention\n",
        "attention(encodings_for_q, encodings_for_k, encodings_for_v)"
      ],
      "metadata": {
        "colab": {
          "base_uri": "https://localhost:8080/"
        },
        "id": "bkjzKPgzfMiK",
        "outputId": "a944cf54-b2c9-480a-9224-e39e8b2712c8"
      },
      "execution_count": null,
      "outputs": [
        {
          "output_type": "execute_result",
          "data": {
            "text/plain": [
              "tensor([[1.0100, 1.0641],\n",
              "        [0.2040, 0.7057],\n",
              "        [3.4989, 2.2427]], grad_fn=<MmBackward0>)"
            ]
          },
          "metadata": {},
          "execution_count": 3
        }
      ]
    },
    {
      "cell_type": "code",
      "source": [
        "#@title Code Mutli-Head Attention\n",
        "\n",
        "\n",
        "class MultiHeadAttention(nn.Module):\n",
        "\n",
        "    def __init__(self,\n",
        "                 d_model=2,\n",
        "                 row_dim=0,\n",
        "                 col_dim=1,\n",
        "                 num_heads=1):\n",
        "\n",
        "        super().__init__()\n",
        "\n",
        "        ## create a bunch of attention heads\n",
        "        self.heads = nn.ModuleList(\n",
        "            [Attention(d_model, row_dim, col_dim)\n",
        "             for _ in range(num_heads)]\n",
        "        )\n",
        "\n",
        "        self.col_dim = col_dim\n",
        "\n",
        "    def forward(self,\n",
        "                encodings_for_q,\n",
        "                encodings_for_k,\n",
        "                encodings_for_v):\n",
        "\n",
        "        ## run the data through all of the attention heads\n",
        "        return torch.cat([head(encodings_for_q,\n",
        "                               encodings_for_k,\n",
        "                               encodings_for_v)\n",
        "                          for head in self.heads], dim=self.col_dim)"
      ],
      "metadata": {
        "id": "2pT8kqAZfaGV"
      },
      "execution_count": null,
      "outputs": []
    },
    {
      "cell_type": "markdown",
      "source": [
        "## Calcualte Multi-Head Attention\n",
        "\n",
        "First, verify that we can still correctly calculate attention with a single head..."
      ],
      "metadata": {
        "id": "vi86NF04gFy1"
      }
    },
    {
      "cell_type": "code",
      "source": [
        "## set the seed for the random number generator\n",
        "torch.manual_seed(42)\n",
        "\n",
        "## create an attention object\n",
        "multiHeadAttention = MultiHeadAttention(d_model=2,\n",
        "                                        row_dim=0,\n",
        "                                        col_dim=1,\n",
        "                                        num_heads=2)\n",
        "\n",
        "## calculate encoder-decoder attention\n",
        "multiHeadAttention(encodings_for_q, encodings_for_k, encodings_for_v)\n"
      ],
      "metadata": {
        "colab": {
          "base_uri": "https://localhost:8080/"
        },
        "id": "3XZkh8Ecf6l-",
        "outputId": "39548139-7208-4d87-bc4e-14ef679ecdc2"
      },
      "execution_count": null,
      "outputs": [
        {
          "output_type": "execute_result",
          "data": {
            "text/plain": [
              "tensor([[ 1.0100,  1.0641, -0.7081, -0.8268],\n",
              "        [ 0.2040,  0.7057, -0.7417, -0.9193],\n",
              "        [ 3.4989,  2.2427, -0.7190, -0.8447]], grad_fn=<CatBackward0>)"
            ]
          },
          "metadata": {},
          "execution_count": 5
        }
      ]
    },
    {
      "cell_type": "markdown",
      "source": [
        "Second, calculate attention with multiple heads..."
      ],
      "metadata": {
        "id": "Nf_kwAjtgQBx"
      }
    },
    {
      "cell_type": "code",
      "source": [
        "## set the seed for the random number generator\n",
        "torch.manual_seed(42)\n",
        "\n",
        "## create an attention object\n",
        "multiHeadAttention = MultiHeadAttention(d_model=2,\n",
        "                                        row_dim=0,\n",
        "                                        col_dim=1,\n",
        "                                        num_heads=2)\n",
        "\n",
        "## calculate encoder-decoder attention\n",
        "multiHeadAttention(encodings_for_q, encodings_for_k, encodings_for_v)"
      ],
      "metadata": {
        "colab": {
          "base_uri": "https://localhost:8080/"
        },
        "id": "FZzDQKJTgSRl",
        "outputId": "63276c9f-6257-4640-d2c4-c3305989c7fd"
      },
      "execution_count": null,
      "outputs": [
        {
          "output_type": "execute_result",
          "data": {
            "text/plain": [
              "tensor([[ 1.0100,  1.0641, -0.7081, -0.8268],\n",
              "        [ 0.2040,  0.7057, -0.7417, -0.9193],\n",
              "        [ 3.4989,  2.2427, -0.7190, -0.8447]], grad_fn=<CatBackward0>)"
            ]
          },
          "metadata": {},
          "execution_count": 6
        }
      ]
    }
  ]
}